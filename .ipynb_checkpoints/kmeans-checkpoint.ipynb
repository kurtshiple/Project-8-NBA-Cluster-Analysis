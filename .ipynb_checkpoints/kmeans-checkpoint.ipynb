{
 "cells": [
  {
   "cell_type": "code",
   "execution_count": 1,
   "metadata": {},
   "outputs": [
    {
     "data": {
      "text/plain": [
       "<Figure size 640x480 with 1 Axes>"
      ]
     },
     "metadata": {},
     "output_type": "display_data"
    },
    {
     "data": {
      "text/plain": [
       "<Figure size 640x480 with 1 Axes>"
      ]
     },
     "metadata": {},
     "output_type": "display_data"
    },
    {
     "data": {
      "text/plain": [
       "<Figure size 640x480 with 1 Axes>"
      ]
     },
     "metadata": {},
     "output_type": "display_data"
    },
    {
     "name": "stdout",
     "output_type": "stream",
     "text": [
      "Final cost 1771.3281507597126\n"
     ]
    },
    {
     "data": {
      "text/plain": [
       "<Figure size 640x480 with 1 Axes>"
      ]
     },
     "metadata": {},
     "output_type": "display_data"
    },
    {
     "data": {
      "text/plain": [
       "<Figure size 640x480 with 1 Axes>"
      ]
     },
     "metadata": {},
     "output_type": "display_data"
    },
    {
     "name": "stdout",
     "output_type": "stream",
     "text": [
      "Final cost 1756.1167051565953\n"
     ]
    },
    {
     "data": {
      "text/plain": [
       "<Figure size 640x480 with 1 Axes>"
      ]
     },
     "metadata": {},
     "output_type": "display_data"
    },
    {
     "data": {
      "text/plain": [
       "<Figure size 640x480 with 1 Axes>"
      ]
     },
     "metadata": {},
     "output_type": "display_data"
    },
    {
     "name": "stdout",
     "output_type": "stream",
     "text": [
      "Final cost 1754.8438456216531\n"
     ]
    },
    {
     "data": {
      "text/plain": [
       "<Figure size 640x480 with 1 Axes>"
      ]
     },
     "metadata": {},
     "output_type": "display_data"
    },
    {
     "data": {
      "text/plain": [
       "<Figure size 640x480 with 1 Axes>"
      ]
     },
     "metadata": {},
     "output_type": "display_data"
    },
    {
     "name": "stdout",
     "output_type": "stream",
     "text": [
      "Final cost 1310.3827703845977\n"
     ]
    },
    {
     "data": {
      "text/plain": [
       "<Figure size 640x480 with 1 Axes>"
      ]
     },
     "metadata": {},
     "output_type": "display_data"
    },
    {
     "data": {
      "text/plain": [
       "<Figure size 640x480 with 1 Axes>"
      ]
     },
     "metadata": {},
     "output_type": "display_data"
    },
    {
     "name": "stdout",
     "output_type": "stream",
     "text": [
      "Final cost 2164.918072827341\n"
     ]
    }
   ],
   "source": [
    "# https://deeplearningcourses.com/c/cluster-analysis-unsupervised-machine-learning-python\n",
    "# https://www.udemy.com/cluster-analysis-unsupervised-machine-learning-python\n",
    "from __future__ import print_function, division\n",
    "from future.utils import iteritems\n",
    "from builtins import range, input\n",
    "# Note: you may need to update your version of future\n",
    "# sudo pip install -U future\n",
    "\n",
    "\n",
    "import numpy as np\n",
    "import matplotlib.pyplot as plt\n",
    "from sklearn.metrics.pairwise import pairwise_distances\n",
    "\n",
    "\n",
    "def d(u, v):\n",
    "    diff = u - v\n",
    "    return diff.dot(diff)\n",
    "\n",
    "\n",
    "def cost(X, R, M):\n",
    "    cost = 0\n",
    "    for k in range(len(M)):\n",
    "        # method 1\n",
    "        # for n in range(len(X)):\n",
    "        #     cost += R[n,k]*d(M[k], X[n])\n",
    "\n",
    "        # method 2\n",
    "        diff = X - M[k]\n",
    "        sq_distances = (diff * diff).sum(axis=1)\n",
    "        cost += (R[:,k] * sq_distances).sum()\n",
    "    return cost\n",
    "\n",
    "\n",
    "def plot_k_means(X, K, max_iter=20, beta=3.0, show_plots=False):\n",
    "    N, D = X.shape\n",
    "    M = np.zeros((K, D))\n",
    "    # R = np.zeros((N, K))\n",
    "    exponents = np.empty((N, K))\n",
    "\n",
    "    # initialize M to random\n",
    "    for k in range(K):\n",
    "        M[k] = X[np.random.choice(N)]\n",
    "\n",
    "    costs = []\n",
    "    k = 0\n",
    "    for i in range(max_iter):\n",
    "        k += 1\n",
    "        # step 1: determine assignments / resposibilities\n",
    "        # is this inefficient?\n",
    "        for k in range(K):\n",
    "            for n in range(N):\n",
    "                exponents[n,k] = np.exp(-beta*d(M[k], X[n]))\n",
    "        R = exponents / exponents.sum(axis=1, keepdims=True)\n",
    "\n",
    "\n",
    "        # step 2: recalculate means\n",
    "        # decent vectorization\n",
    "        # for k in range(K):\n",
    "        #     M[k] = R[:,k].dot(X) / R[:,k].sum()\n",
    "        # oldM = M\n",
    "\n",
    "        # full vectorization\n",
    "        M = R.T.dot(X) / R.sum(axis=0, keepdims=True).T\n",
    "        # print(\"diff M:\", np.abs(M - oldM).sum())\n",
    "\n",
    "        c = cost(X, R, M)\n",
    "        costs.append(c)\n",
    "        if i > 0:\n",
    "            if np.abs(costs[-1] - costs[-2]) < 1e-5:\n",
    "                break\n",
    "\n",
    "        if len(costs) > 1:\n",
    "            if costs[-1] > costs[-2]:\n",
    "                pass\n",
    "                # print(\"cost increased!\")\n",
    "                # print(\"M:\", M)\n",
    "                # print(\"R.min:\", R.min(), \"R.max:\", R.max())\n",
    "\n",
    "    if show_plots:\n",
    "        plt.plot(costs)\n",
    "        plt.title(\"Costs\")\n",
    "        plt.show()\n",
    "\n",
    "        random_colors = np.random.random((K, 3))\n",
    "        colors = R.dot(random_colors)\n",
    "        plt.scatter(X[:,0], X[:,1], c=colors)\n",
    "        plt.show()\n",
    "\n",
    "    print(\"Final cost\", costs[-1])\n",
    "    return M, R\n",
    "\n",
    "\n",
    "def get_simple_data():\n",
    "    # assume 3 means\n",
    "    D = 2 # so we can visualize it more easily\n",
    "    s = 4 # separation so we can control how far apart the means are\n",
    "    mu1 = np.array([0, 0])\n",
    "    mu2 = np.array([s, s])\n",
    "    mu3 = np.array([0, s])\n",
    "\n",
    "    N = 900 # number of samples\n",
    "    X = np.zeros((N, D))\n",
    "    X[:300, :] = np.random.randn(300, D) + mu1\n",
    "    X[300:600, :] = np.random.randn(300, D) + mu2\n",
    "    X[600:, :] = np.random.randn(300, D) + mu3\n",
    "    return X\n",
    "\n",
    "\n",
    "def main():\n",
    "    X = get_simple_data()\n",
    "\n",
    "    # what does it look like without clustering?\n",
    "    plt.scatter(X[:,0], X[:,1])\n",
    "    plt.show()\n",
    "\n",
    "    K = 3 # luckily, we already know this\n",
    "    plot_k_means(X, K, beta=1.0, show_plots=True)\n",
    "\n",
    "    K = 3 # luckily, we already know this\n",
    "    plot_k_means(X, K, beta=3.0, show_plots=True)\n",
    "\n",
    "    K = 3 # luckily, we already know this\n",
    "    plot_k_means(X, K, beta=10.0, show_plots=True)\n",
    "\n",
    "    K = 5 # what happens if we choose a \"bad\" K?\n",
    "    plot_k_means(X, K, max_iter=30, show_plots=True)\n",
    "\n",
    "    K = 5 # what happens if we change beta?\n",
    "    plot_k_means(X, K, max_iter=30, beta=0.3, show_plots=True)\n",
    "\n",
    "\n",
    "if __name__ == '__main__':\n",
    "    main()"
   ]
  },
  {
   "cell_type": "code",
   "execution_count": null,
   "metadata": {},
   "outputs": [],
   "source": []
  }
 ],
 "metadata": {
  "kernelspec": {
   "display_name": "Python 3",
   "language": "python",
   "name": "python3"
  },
  "language_info": {
   "codemirror_mode": {
    "name": "ipython",
    "version": 3
   },
   "file_extension": ".py",
   "mimetype": "text/x-python",
   "name": "python",
   "nbconvert_exporter": "python",
   "pygments_lexer": "ipython3",
   "version": "3.7.2"
  }
 },
 "nbformat": 4,
 "nbformat_minor": 2
}
